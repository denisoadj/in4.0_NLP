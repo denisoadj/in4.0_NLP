{
  "nbformat": 4,
  "nbformat_minor": 0,
  "metadata": {
    "colab": {
      "provenance": []
    },
    "kernelspec": {
      "name": "python3",
      "display_name": "Python 3"
    },
    "language_info": {
      "name": "python"
    }
  },
  "cells": [
    {
      "cell_type": "markdown",
      "source": [
        "# **VALUATION PROPERTIES TABLE**"
      ],
      "metadata": {
        "id": "BMNl0hSxG_FQ"
      }
    },
    {
      "cell_type": "code",
      "source": [
        "import pandas as pd\n",
        "import numpy as np\n",
        "from bs4 import BeautifulSoup\n",
        "import requests"
      ],
      "metadata": {
        "id": "nEN95SWjKL_4"
      },
      "execution_count": 1,
      "outputs": []
    },
    {
      "cell_type": "code",
      "source": [
        "cols = ['Property_ID', 'Price', 'Gross_Rent', 'Ground_Rent', 'Service_Charge', 'Lettings_Fees', 'Net_Income', 'Gross_Yield', 'Net_Yield']"
      ],
      "metadata": {
        "id": "aHGe3atTJU8a"
      },
      "execution_count": 2,
      "outputs": []
    },
    {
      "cell_type": "code",
      "source": [
        "fin_info_df= pd.DataFrame(columns= cols)"
      ],
      "metadata": {
        "id": "bt7cSYiHKFJ7"
      },
      "execution_count": 3,
      "outputs": []
    },
    {
      "cell_type": "code",
      "source": [
        "\n",
        "url_list = ['https://www.mrinvesta.com/properties/319292/', 'https://www.mrinvesta.com/properties/304345/', 'https://www.mrinvesta.com/properties/341511/', 'https://www.mrinvesta.com/properties/512382/', 'https://www.mrinvesta.com/properties/447115/', 'https://www.mrinvesta.com/properties/457670/', 'https://www.mrinvesta.com/properties/457577/',\n",
        "            'https://www.mrinvesta.com/properties/280244/', 'https://www.mrinvesta.com/properties/200097/', 'https://www.mrinvesta.com/properties/99381/', 'https://www.mrinvesta.com/properties/277508/', 'https://www.mrinvesta.com/properties/359848/', 'https://www.mrinvesta.com/properties/347821/', 'https://www.mrinvesta.com/properties/106791/',\n",
        "            'https://www.mrinvesta.com/properties/497743/', 'https://www.mrinvesta.com/properties/219221/', 'https://www.mrinvesta.com/properties/359125/', 'https://www.mrinvesta.com/properties/481757/', 'https://www.mrinvesta.com/properties/496804/', 'https://www.mrinvesta.com/properties/509240/', 'https://www.mrinvesta.com/properties/461890/',\n",
        "            'https://www.mrinvesta.com/properties/215680/', 'https://www.mrinvesta.com/properties/329181/', 'https://www.mrinvesta.com/properties/97916/', 'https://www.mrinvesta.com/properties/500747/', 'https://www.mrinvesta.com/properties/103499/', 'https://www.mrinvesta.com/properties/365428/', 'https://www.mrinvesta.com/properties/492914/',\n",
        "            'https://www.mrinvesta.com/properties/509199/', 'https://www.mrinvesta.com/properties/452149/', 'https://www.mrinvesta.com/properties/223821/', 'https://www.mrinvesta.com/properties/109924/', 'https://www.mrinvesta.com/properties/115241/', 'https://www.mrinvesta.com/properties/211136/', 'https://www.mrinvesta.com/properties/213289/',\n",
        "            'https://www.mrinvesta.com/properties/365690/', 'https://www.mrinvesta.com/properties/513459/', 'https://www.mrinvesta.com/properties/499244/', 'https://www.mrinvesta.com/properties/504183/', 'https://www.mrinvesta.com/properties/103061/','https://www.mrinvesta.com/properties/455729/', 'https://www.mrinvesta.com/properties/358990/',\n",
        "            'https://www.mrinvesta.com/properties/97923/', 'https://www.mrinvesta.com/properties/346643/', 'https://www.mrinvesta.com/properties/223750/', 'https://www.mrinvesta.com/properties/200705/', 'https://www.mrinvesta.com/properties/106270/', 'https://www.mrinvesta.com/properties/318969/', 'https://www.mrinvesta.com/properties/471688/',\n",
        "            'https://www.mrinvesta.com/properties/200704/', 'https://www.mrinvesta.com/properties/341315/', 'https://www.mrinvesta.com/properties/342055/', 'https://www.mrinvesta.com/properties/461634/', 'https://www.mrinvesta.com/properties/219273/','https://www.mrinvesta.com/properties/480300/', 'https://www.mrinvesta.com/properties/459419/',\n",
        "            'https://www.mrinvesta.com/properties/219368/', 'https://www.mrinvesta.com/properties/215366/', 'https://www.mrinvesta.com/properties/341799/','https://www.mrinvesta.com/properties/508285/', 'https://www.mrinvesta.com/properties/497887/', 'https://www.mrinvesta.com/properties/221713/', 'https://www.mrinvesta.com/properties/457626/',\n",
        "            'https://www.mrinvesta.com/properties/459969/', 'https://www.mrinvesta.com/properties/342270/', 'https://www.mrinvesta.com/properties/497443/','https://www.mrinvesta.com/properties/316706/', 'https://www.mrinvesta.com/properties/358157/', 'https://www.mrinvesta.com/properties/457490/', 'https://www.mrinvesta.com/properties/508568/',\n",
        "            'https://www.mrinvesta.com/properties/508688/']"
      ],
      "metadata": {
        "id": "mAhV09ugbf_f"
      },
      "execution_count": 4,
      "outputs": []
    },
    {
      "cell_type": "markdown",
      "source": [
        "**Property ID**"
      ],
      "metadata": {
        "id": "ONAGgYwU2M8f"
      }
    },
    {
      "cell_type": "code",
      "source": [
        "p_id = []\n",
        "for u in url_list:\n",
        "  p_id.append(int(u[-7:-1].replace('/', '0')))"
      ],
      "metadata": {
        "id": "sEFMFvkaMsA_"
      },
      "execution_count": 5,
      "outputs": []
    },
    {
      "cell_type": "code",
      "source": [
        "fin_info_df['Property_ID'] = p_id"
      ],
      "metadata": {
        "collapsed": true,
        "id": "I2a3G7McPIzs"
      },
      "execution_count": 6,
      "outputs": []
    },
    {
      "cell_type": "markdown",
      "source": [
        "**(Asking) Price**"
      ],
      "metadata": {
        "id": "bglN4EQ6imXr"
      }
    },
    {
      "cell_type": "code",
      "source": [
        "data_p_list = []\n",
        "for u in url_list:\n",
        "  page = requests.get(u)\n",
        "\n",
        "  soup = BeautifulSoup(page.text, 'html')\n",
        "  data_price = soup.find_all(class_='property-overview__price')\n",
        "\n",
        "  for p in data_price:\n",
        "    data_p_list.append(str(p).replace('<div class=\"property-overview__price\">£', '').strip('</div>'))\n"
      ],
      "metadata": {
        "id": "_tJGtjiHi-8L"
      },
      "execution_count": 7,
      "outputs": []
    },
    {
      "cell_type": "code",
      "source": [
        "fin_info_df['Price'] = data_p_list"
      ],
      "metadata": {
        "id": "cDK3USFCSMjX",
        "colab": {
          "base_uri": "https://localhost:8080/",
          "height": 282
        },
        "outputId": "554c5739-d192-436a-c02a-1dbe7537243b"
      },
      "execution_count": 8,
      "outputs": [
        {
          "output_type": "error",
          "ename": "ValueError",
          "evalue": "Length of values (69) does not match length of index (71)",
          "traceback": [
            "\u001b[0;31m---------------------------------------------------------------------------\u001b[0m",
            "\u001b[0;31mValueError\u001b[0m                                Traceback (most recent call last)",
            "\u001b[0;32m<ipython-input-8-9d74ba738d02>\u001b[0m in \u001b[0;36m<cell line: 1>\u001b[0;34m()\u001b[0m\n\u001b[0;32m----> 1\u001b[0;31m \u001b[0mfin_info_df\u001b[0m\u001b[0;34m[\u001b[0m\u001b[0;34m'Price'\u001b[0m\u001b[0;34m]\u001b[0m \u001b[0;34m=\u001b[0m \u001b[0mdata_p_list\u001b[0m\u001b[0;34m\u001b[0m\u001b[0;34m\u001b[0m\u001b[0m\n\u001b[0m",
            "\u001b[0;32m/usr/local/lib/python3.10/dist-packages/pandas/core/frame.py\u001b[0m in \u001b[0;36m__setitem__\u001b[0;34m(self, key, value)\u001b[0m\n\u001b[1;32m   3948\u001b[0m         \u001b[0;32melse\u001b[0m\u001b[0;34m:\u001b[0m\u001b[0;34m\u001b[0m\u001b[0;34m\u001b[0m\u001b[0m\n\u001b[1;32m   3949\u001b[0m             \u001b[0;31m# set column\u001b[0m\u001b[0;34m\u001b[0m\u001b[0;34m\u001b[0m\u001b[0m\n\u001b[0;32m-> 3950\u001b[0;31m             \u001b[0mself\u001b[0m\u001b[0;34m.\u001b[0m\u001b[0m_set_item\u001b[0m\u001b[0;34m(\u001b[0m\u001b[0mkey\u001b[0m\u001b[0;34m,\u001b[0m \u001b[0mvalue\u001b[0m\u001b[0;34m)\u001b[0m\u001b[0;34m\u001b[0m\u001b[0;34m\u001b[0m\u001b[0m\n\u001b[0m\u001b[1;32m   3951\u001b[0m \u001b[0;34m\u001b[0m\u001b[0m\n\u001b[1;32m   3952\u001b[0m     \u001b[0;32mdef\u001b[0m \u001b[0m_setitem_slice\u001b[0m\u001b[0;34m(\u001b[0m\u001b[0mself\u001b[0m\u001b[0;34m,\u001b[0m \u001b[0mkey\u001b[0m\u001b[0;34m:\u001b[0m \u001b[0mslice\u001b[0m\u001b[0;34m,\u001b[0m \u001b[0mvalue\u001b[0m\u001b[0;34m)\u001b[0m \u001b[0;34m->\u001b[0m \u001b[0;32mNone\u001b[0m\u001b[0;34m:\u001b[0m\u001b[0;34m\u001b[0m\u001b[0;34m\u001b[0m\u001b[0m\n",
            "\u001b[0;32m/usr/local/lib/python3.10/dist-packages/pandas/core/frame.py\u001b[0m in \u001b[0;36m_set_item\u001b[0;34m(self, key, value)\u001b[0m\n\u001b[1;32m   4141\u001b[0m         \u001b[0mensure\u001b[0m \u001b[0mhomogeneity\u001b[0m\u001b[0;34m.\u001b[0m\u001b[0;34m\u001b[0m\u001b[0;34m\u001b[0m\u001b[0m\n\u001b[1;32m   4142\u001b[0m         \"\"\"\n\u001b[0;32m-> 4143\u001b[0;31m         \u001b[0mvalue\u001b[0m \u001b[0;34m=\u001b[0m \u001b[0mself\u001b[0m\u001b[0;34m.\u001b[0m\u001b[0m_sanitize_column\u001b[0m\u001b[0;34m(\u001b[0m\u001b[0mvalue\u001b[0m\u001b[0;34m)\u001b[0m\u001b[0;34m\u001b[0m\u001b[0;34m\u001b[0m\u001b[0m\n\u001b[0m\u001b[1;32m   4144\u001b[0m \u001b[0;34m\u001b[0m\u001b[0m\n\u001b[1;32m   4145\u001b[0m         if (\n",
            "\u001b[0;32m/usr/local/lib/python3.10/dist-packages/pandas/core/frame.py\u001b[0m in \u001b[0;36m_sanitize_column\u001b[0;34m(self, value)\u001b[0m\n\u001b[1;32m   4868\u001b[0m \u001b[0;34m\u001b[0m\u001b[0m\n\u001b[1;32m   4869\u001b[0m         \u001b[0;32mif\u001b[0m \u001b[0mis_list_like\u001b[0m\u001b[0;34m(\u001b[0m\u001b[0mvalue\u001b[0m\u001b[0;34m)\u001b[0m\u001b[0;34m:\u001b[0m\u001b[0;34m\u001b[0m\u001b[0;34m\u001b[0m\u001b[0m\n\u001b[0;32m-> 4870\u001b[0;31m             \u001b[0mcom\u001b[0m\u001b[0;34m.\u001b[0m\u001b[0mrequire_length_match\u001b[0m\u001b[0;34m(\u001b[0m\u001b[0mvalue\u001b[0m\u001b[0;34m,\u001b[0m \u001b[0mself\u001b[0m\u001b[0;34m.\u001b[0m\u001b[0mindex\u001b[0m\u001b[0;34m)\u001b[0m\u001b[0;34m\u001b[0m\u001b[0;34m\u001b[0m\u001b[0m\n\u001b[0m\u001b[1;32m   4871\u001b[0m         \u001b[0;32mreturn\u001b[0m \u001b[0msanitize_array\u001b[0m\u001b[0;34m(\u001b[0m\u001b[0mvalue\u001b[0m\u001b[0;34m,\u001b[0m \u001b[0mself\u001b[0m\u001b[0;34m.\u001b[0m\u001b[0mindex\u001b[0m\u001b[0;34m,\u001b[0m \u001b[0mcopy\u001b[0m\u001b[0;34m=\u001b[0m\u001b[0;32mTrue\u001b[0m\u001b[0;34m,\u001b[0m \u001b[0mallow_2d\u001b[0m\u001b[0;34m=\u001b[0m\u001b[0;32mTrue\u001b[0m\u001b[0;34m)\u001b[0m\u001b[0;34m\u001b[0m\u001b[0;34m\u001b[0m\u001b[0m\n\u001b[1;32m   4872\u001b[0m \u001b[0;34m\u001b[0m\u001b[0m\n",
            "\u001b[0;32m/usr/local/lib/python3.10/dist-packages/pandas/core/common.py\u001b[0m in \u001b[0;36mrequire_length_match\u001b[0;34m(data, index)\u001b[0m\n\u001b[1;32m    574\u001b[0m     \"\"\"\n\u001b[1;32m    575\u001b[0m     \u001b[0;32mif\u001b[0m \u001b[0mlen\u001b[0m\u001b[0;34m(\u001b[0m\u001b[0mdata\u001b[0m\u001b[0;34m)\u001b[0m \u001b[0;34m!=\u001b[0m \u001b[0mlen\u001b[0m\u001b[0;34m(\u001b[0m\u001b[0mindex\u001b[0m\u001b[0;34m)\u001b[0m\u001b[0;34m:\u001b[0m\u001b[0;34m\u001b[0m\u001b[0;34m\u001b[0m\u001b[0m\n\u001b[0;32m--> 576\u001b[0;31m         raise ValueError(\n\u001b[0m\u001b[1;32m    577\u001b[0m             \u001b[0;34m\"Length of values \"\u001b[0m\u001b[0;34m\u001b[0m\u001b[0;34m\u001b[0m\u001b[0m\n\u001b[1;32m    578\u001b[0m             \u001b[0;34mf\"({len(data)}) \"\u001b[0m\u001b[0;34m\u001b[0m\u001b[0;34m\u001b[0m\u001b[0m\n",
            "\u001b[0;31mValueError\u001b[0m: Length of values (69) does not match length of index (71)"
          ]
        }
      ]
    },
    {
      "cell_type": "markdown",
      "source": [
        "**Financial Perfomamce Table**"
      ],
      "metadata": {
        "id": "x7X9NUzVp8b5"
      }
    },
    {
      "cell_type": "code",
      "source": [
        "#Extracting the financial informations using the financial table on the webpage\n",
        "\n",
        "data_tab_fin = []\n",
        "\n",
        "for i, u in enumerate(url_list):\n",
        "  page = requests.get(u)\n",
        "\n",
        "  soup = BeautifulSoup(page.text, 'html')\n",
        "  table = soup.find_all(class_='finance-summary__table-col')\n",
        "\n",
        "  for p in table:\n",
        "    data_tab_fin.append(str(i) + (' # ') + str(p).replace(' class=\"finance-summary__table-col\"', '').strip('<div></'))"
      ],
      "metadata": {
        "id": "UWNYrwJBqC87"
      },
      "execution_count": null,
      "outputs": []
    },
    {
      "cell_type": "code",
      "source": [
        "#Cleaning the different records in order to create separete lists that would be used for the property valuation table\n",
        "\n",
        "gross_rent = [None for i in range(71)]\n",
        "ground_rent = [None for i in range(71)]\n",
        "service_charge = [None for i in range(71)]\n",
        "letting_fees = [None for i in range(71)]\n",
        "net_income = [None for i in range(71)]\n",
        "gross_yield = [None for i in range(71)]\n",
        "net_yield = [None for i in range(71)]\n",
        "\n",
        "for i, t in enumerate(data_tab_fin):\n",
        "  index = int(t[:2])\n",
        "  if 'Gross Rent' in t:\n",
        "    gross_rent[index] = int(data_tab_fin[i + 1].replace('# £<!-- -->', '')[2:])\n",
        "  elif 'Ground Rent' in t:\n",
        "    ground_rent[index] = data_tab_fin[i + 1].replace(' / year', '')[4:].strip(' £')\n",
        "  elif 'Service Charge' in t:\n",
        "    service_charge[index] = data_tab_fin[i + 1].replace(' / year', '')[4:].strip(' £')\n",
        "  elif 'Lettings Fees' in t:\n",
        "    letting_fees[index] = data_tab_fin[i + 1].replace('# £<!-- -->', '')[2:]\n",
        "  elif 'Net Income' in t:\n",
        "    net_income[index] = data_tab_fin[i + 1].replace('# £<!-- -->', '')[2:]\n",
        "  elif 'Gross Yiel' in t:\n",
        "    gross_yield[index] = data_tab_fin[i + 1][4:].strip('%')\n",
        "  elif 'Net Yiel' in t:\n",
        "    net_yield[index] = data_tab_fin[i + 1].replace('<!-- -->%', '')[4:]"
      ],
      "metadata": {
        "id": "zzL8jZhfvSXg"
      },
      "execution_count": null,
      "outputs": []
    },
    {
      "cell_type": "code",
      "source": [
        "fin_info_df['Gross_Rent'] = gross_rent\n",
        "fin_info_df['Ground_Rent'] = ground_rent\n",
        "fin_info_df['Service_Charge'] = service_charge\n",
        "fin_info_df['Lettings_Fees'] = letting_fees\n",
        "fin_info_df['Net_Income'] = net_income\n",
        "fin_info_df['Gross_Yield'] = gross_yield\n",
        "fin_info_df['Net_Yield'] = net_yield\n"
      ],
      "metadata": {
        "id": "wHugDj8D14IN"
      },
      "execution_count": null,
      "outputs": []
    },
    {
      "cell_type": "code",
      "source": [
        "l = []\n",
        "for c in fin_info_df['Price']:\n",
        "  l.append(c.replace(',',''))\n",
        "\n",
        "fin_info_df['Price'] = l"
      ],
      "metadata": {
        "id": "7N7HHzcdgdk7"
      },
      "execution_count": null,
      "outputs": []
    },
    {
      "cell_type": "code",
      "source": [
        "fin_info_df['Price'] = fin_info_df['Price'].astype(int)"
      ],
      "metadata": {
        "id": "PlIiucLFgvIL"
      },
      "execution_count": null,
      "outputs": []
    },
    {
      "cell_type": "code",
      "source": [
        "l_sc = []\n",
        "for c in fin_info_df['Service_Charge']:\n",
        "  if c == None:\n",
        "    l_sc.append(None)\n",
        "  else:\n",
        "    l_sc.append(c.replace(',',''))\n",
        "\n",
        "fin_info_df['Service_Charge'] = l_sc"
      ],
      "metadata": {
        "id": "vPXl3vwC_8-m"
      },
      "execution_count": null,
      "outputs": []
    },
    {
      "cell_type": "code",
      "source": [
        "#Changing data types to float to enable analytics to the Property valuation table\n",
        "\n",
        "fin_info_df['Service_Charge'] = fin_info_df['Service_Charge'].astype(float)\n",
        "fin_info_df['Lettings_Fees'] = fin_info_df['Lettings_Fees'].astype(float)\n",
        "fin_info_df['Net_Income'] = fin_info_df['Net_Income'].astype(float)\n",
        "fin_info_df['Gross_Yield'] = fin_info_df['Gross_Yield'].astype(float)\n",
        "fin_info_df['Net_Yield'] = fin_info_df['Net_Yield'].astype(float)"
      ],
      "metadata": {
        "id": "IfQFPjgEAsEX"
      },
      "execution_count": null,
      "outputs": []
    },
    {
      "cell_type": "code",
      "source": [
        "l_gr = []\n",
        "\n",
        "for c in fin_info_df['Ground_Rent']:\n",
        "  if c == None:\n",
        "    l_gr.append(None)\n",
        "  else:\n",
        "    l_gr.append(int((c.replace(',',''))))\n",
        "fin_info_df['Ground_Rent'] = l_gr"
      ],
      "metadata": {
        "id": "DCxgke6Ppae2"
      },
      "execution_count": null,
      "outputs": []
    },
    {
      "cell_type": "markdown",
      "source": [
        "**Valuation ID**"
      ],
      "metadata": {
        "id": "GaYOuRx0LqAV"
      }
    },
    {
      "cell_type": "code",
      "source": [
        "!pip install sqids\n",
        "from sqids import Sqids\n",
        "sqids = Sqids()"
      ],
      "metadata": {
        "id": "pG-vJvl0Lzwu"
      },
      "execution_count": null,
      "outputs": []
    },
    {
      "cell_type": "code",
      "source": [
        "l_val = []\n",
        "for n in fin_info_df['Property_ID']:\n",
        "  l_val.append(str(sqids.encode([n])))\n",
        "fin_info_df['Valuation_ID'] = l_val"
      ],
      "metadata": {
        "id": "sE2fsgxsL5Z5"
      },
      "execution_count": null,
      "outputs": []
    },
    {
      "cell_type": "code",
      "source": [
        "fin_info_df['Valuation_ID'] = fin_info_df['Valuation_ID'].astype(\"string\")"
      ],
      "metadata": {
        "id": "fF46w_OsRxoG"
      },
      "execution_count": null,
      "outputs": []
    },
    {
      "cell_type": "code",
      "source": [
        "fin_info_df"
      ],
      "metadata": {
        "id": "k7rSEbo3RQiX"
      },
      "execution_count": null,
      "outputs": []
    },
    {
      "cell_type": "markdown",
      "source": [
        "# **Missing Values**"
      ],
      "metadata": {
        "id": "bnLnZevo7Nwq"
      }
    },
    {
      "cell_type": "code",
      "source": [
        "import matplotlib.pyplot as plt\n",
        "import seaborn as sns"
      ],
      "metadata": {
        "id": "kk9aI-MVswKa"
      },
      "execution_count": null,
      "outputs": []
    },
    {
      "cell_type": "code",
      "source": [
        "missing_value = fin_info_df.isnull().sum()\n",
        "missing_value"
      ],
      "metadata": {
        "id": "c6oF4JfTkbD_"
      },
      "execution_count": null,
      "outputs": []
    },
    {
      "cell_type": "code",
      "source": [
        "sns.displot(\n",
        "    data=fin_info_df.isnull().melt(value_name='missing'),\n",
        "    y='variable',\n",
        "    hue='missing',\n",
        "    multiple='fill',\n",
        "    height=6,\n",
        "    aspect=1.3,\n",
        "    palette='light:black'\n",
        ")"
      ],
      "metadata": {
        "id": "A6I4pJtIQ9gR"
      },
      "execution_count": null,
      "outputs": []
    },
    {
      "cell_type": "markdown",
      "source": [
        "# **SQL DATA**"
      ],
      "metadata": {
        "id": "sRHa74Qrg8nU"
      }
    },
    {
      "cell_type": "code",
      "source": [
        "sql_data = fin_info_df"
      ],
      "metadata": {
        "id": "t-8T5xw6XnTS"
      },
      "execution_count": null,
      "outputs": []
    },
    {
      "cell_type": "code",
      "source": [
        "sql_data.fillna('null')"
      ],
      "metadata": {
        "id": "Eqmr5cLAhVQI"
      },
      "execution_count": null,
      "outputs": []
    }
  ]
}